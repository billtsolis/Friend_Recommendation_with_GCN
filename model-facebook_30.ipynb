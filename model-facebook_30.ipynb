{
 "cells": [
  {
   "cell_type": "code",
   "execution_count": 1,
   "id": "70716bc1-9511-41da-90af-d9c273b5d0fe",
   "metadata": {},
   "outputs": [],
   "source": [
    "import itertools\n",
    "import torch\n",
    "import torch.nn as nn\n",
    "import torch.nn.functional as F\n",
    "import torch_geometric.nn as gnn\n",
    "import numpy as np\n",
    "import pandas as pd\n",
    "from torch_geometric.data import DataLoader\n",
    "from torch_geometric.data import Data\n",
    "from torch_geometric.data import InMemoryDataset\n",
    "from torch_geometric.utils import negative_sampling\n",
    "from torch_geometric.nn import GCNConv \n",
    "from torch.optim.lr_scheduler import StepLR\n",
    "from sklearn.decomposition import TruncatedSVD\n",
    "from sklearn.metrics import roc_auc_score, ndcg_score\n",
    "from sklearn.metrics.pairwise import cosine_similarity\n",
    "from tqdm import tqdm"
   ]
  },
  {
   "cell_type": "code",
   "execution_count": 2,
   "id": "380dd537",
   "metadata": {},
   "outputs": [],
   "source": [
    "target_epoch=30   #TODO train for 30 50 100 200 DONE 100"
   ]
  },
  {
   "cell_type": "code",
   "execution_count": 3,
   "id": "61707cfd",
   "metadata": {},
   "outputs": [],
   "source": [
    "# class TwitterDataset(InMemoryDataset):\n",
    "#     def __init__(self, root, transform=None, pre_transform=None):\n",
    "#         super(TwitterDataset, self).__init__(root, transform, pre_transform)\n",
    "#         self.data, self.slices = torch.load(self.processed_paths[0])\n",
    "\n",
    "#     @property\n",
    "#     def raw_file_names(self):\n",
    "#         return ['twitter_combined.txt', 'twitter_features.txt']\n",
    "\n",
    "#     @property\n",
    "#     def processed_file_names(self):\n",
    "#         return ['twitter_data.pt']\n",
    "\n",
    "#     def download(self):\n",
    "#         # In this case, you're not downloading any data,\n",
    "#         # but you could add code to download your data here if it's not local\n",
    "#         pass\n",
    "\n",
    "#     def process(self):\n",
    "#         # Load the graph data\n",
    "#         edges = pd.read_csv(self.raw_paths[0], delimiter=' ', header=None)\n",
    "#         features = pd.read_csv(self.raw_paths[1], delimiter=' ', header=None)\n",
    "\n",
    "#         # Create the graph\n",
    "#         edge_index = torch.tensor(edges.values, dtype=torch.long).t().contiguous()\n",
    "#         x = torch.tensor(features.values, dtype=torch.float)\n",
    "    \n",
    "#         data = Data(x=x, edge_index=edge_index)\n",
    "\n",
    "#         data, slices = self.collate([data])\n",
    "#         torch.save((data, slices), self.processed_paths[0])\n",
    "        \n",
    "# class GPlusDataset(InMemoryDataset):\n",
    "#     def __init__(self, root, transform=None, pre_transform=None):\n",
    "#         super(GPlusDataset, self).__init__(root, transform, pre_transform)\n",
    "#         self.data, self.slices = torch.load(self.processed_paths[0])\n",
    "\n",
    "#     @property\n",
    "#     def raw_file_names(self):\n",
    "#         return ['gplus_combined.txt', 'gplus_features.txt']\n",
    "\n",
    "#     @property\n",
    "#     def processed_file_names(self):\n",
    "#         return ['gplus_data.pt']\n",
    "\n",
    "#     def download(self):\n",
    "#         # In this case, you're not downloading any data,\n",
    "#         # but you could add code to download your data here if it's not local\n",
    "#         pass\n",
    "\n",
    "#     def process(self):\n",
    "#         # Load the graph data\n",
    "#         edges = pd.read_csv(self.raw_paths[0], delimiter=' ', header=None)\n",
    "#         features = pd.read_csv(self.raw_paths[1], delimiter=' ', header=None)\n",
    "\n",
    "#         # Create the graph\n",
    "#         edge_index = torch.tensor(edges.values, dtype=torch.long).t().contiguous()\n",
    "#         x = torch.tensor(features.values, dtype=torch.float)\n",
    "    \n",
    "#         data = Data(x=x, edge_index=edge_index)\n",
    "\n",
    "#         data, slices = self.collate([data])\n",
    "#         torch.save((data, slices), self.processed_paths[0])"
   ]
  },
  {
   "cell_type": "code",
   "execution_count": 4,
   "id": "85be3285-acd5-4474-a38c-0e59aaed5847",
   "metadata": {},
   "outputs": [],
   "source": [
    "class FacebookDataset(InMemoryDataset):\n",
    "    def __init__(self, root, transform=None, pre_transform=None):\n",
    "        super(FacebookDataset, self).__init__(root, transform, pre_transform)\n",
    "        self.data, self.slices = torch.load(self.processed_paths[0])\n",
    "\n",
    "    @property\n",
    "    def raw_file_names(self):\n",
    "        return ['facebook_combined.txt', 'facebook_features.txt']\n",
    "\n",
    "    @property\n",
    "    def processed_file_names(self):\n",
    "        return ['data.pt']\n",
    "\n",
    "    def download(self):\n",
    "        # In this case, you're not downloading any data,\n",
    "        # but you could add code to download your data here if it's not local\n",
    "        pass\n",
    "\n",
    "    def process(self):\n",
    "        # Load the graph data\n",
    "        edges = pd.read_csv(self.raw_paths[0], delimiter=' ', header=None)\n",
    "        features = pd.read_csv(self.raw_paths[1], delimiter=' ', header=None)\n",
    "\n",
    "        # Create the graph\n",
    "        edge_index = torch.tensor(edges.values, dtype=torch.long).t().contiguous()\n",
    "        x = torch.tensor(features.values, dtype=torch.float)\n",
    "    \n",
    "        data = Data(x=x, edge_index=edge_index)\n",
    "\n",
    "        data, slices = self.collate([data])\n",
    "        torch.save((data, slices), self.processed_paths[0])"
   ]
  },
  {
   "cell_type": "code",
   "execution_count": 5,
   "id": "67b12142-a9ed-4579-9803-2e42be884e4a",
   "metadata": {},
   "outputs": [],
   "source": [
    "dataset = FacebookDataset(root='.')\n",
    "data = dataset[0]"
   ]
  },
  {
   "cell_type": "code",
   "execution_count": 6,
   "id": "3470e94e",
   "metadata": {},
   "outputs": [
    {
     "data": {
      "text/plain": [
       "Data(x=[4039, 1406], edge_index=[2, 88234])"
      ]
     },
     "execution_count": 6,
     "metadata": {},
     "output_type": "execute_result"
    }
   ],
   "source": [
    "data"
   ]
  },
  {
   "cell_type": "code",
   "execution_count": 7,
   "id": "bd2f673c-3f99-4792-bcdd-8b034f8548f2",
   "metadata": {},
   "outputs": [],
   "source": [
    "#Calculate Train Positives\n",
    "# Define the percentage of edges to remove\n",
    "test_percentage = 0.3\n",
    "\n",
    "# Calculate the number of edges to remove\n",
    "num_edges_to_remove = int(data.edge_index.shape[1] * test_percentage)\n",
    "\n",
    "# Shuffle the edges\n",
    "edge_indices = np.arange(data.edge_index.shape[1])\n",
    "np.random.shuffle(edge_indices)\n",
    "\n",
    "# Select the edges to keep\n",
    "edges_to_keep = edge_indices[num_edges_to_remove:]\n",
    "\n",
    "# Create a new graph with only the edges to keep(Train positives)\n",
    "data_prime = Data(x=data.x, edge_index=data.edge_index[:, edges_to_keep])"
   ]
  },
  {
   "cell_type": "code",
   "execution_count": 8,
   "id": "3d33966b-7563-47fe-99f1-a7ec50079019",
   "metadata": {},
   "outputs": [],
   "source": [
    "#train pos \n",
    "train_pos=data_prime"
   ]
  },
  {
   "cell_type": "code",
   "execution_count": 9,
   "id": "7e7311e5-3c2a-4052-ae32-484a27280ee1",
   "metadata": {},
   "outputs": [],
   "source": [
    "#TEST POSITIVES\n",
    "# Select the edges to remove (these will be your test positives)\n",
    "edges_to_remove = edge_indices[:num_edges_to_remove]\n",
    "\n",
    "# Create a new graph with only the edges to remove (Test positives)\n",
    "test_pos = Data(x=data.x, edge_index=data.edge_index[:, edges_to_remove])"
   ]
  },
  {
   "cell_type": "code",
   "execution_count": 10,
   "id": "d5e0b2fb-2730-4ead-b56a-e77c5b0fad06",
   "metadata": {},
   "outputs": [],
   "source": [
    "#Calculate Train negatives\n",
    "positives_edges=data_prime.edge_index\n",
    "# Number of negative samples to generate\n",
    "num_neg_samples = data_prime.edge_index.size(1)\n",
    "# Generate negative samples\n",
    "negative_edge_index = negative_sampling(edge_index=data.edge_index, num_nodes=data.num_nodes, num_neg_samples=num_neg_samples)\n",
    "#Train negatives\n",
    "train_neg = Data(x=data.x, edge_index=negative_edge_index)"
   ]
  },
  {
   "cell_type": "code",
   "execution_count": 11,
   "id": "5c90983f-7f26-4171-8e7a-a0505ea191cd",
   "metadata": {},
   "outputs": [],
   "source": [
    "# TEST negatives\n",
    "# Number of negative samples to generate for testing\n",
    "num_test_neg_samples = test_pos.edge_index.size(1)\n",
    "\n",
    "# Generate negative samples for testing\n",
    "test_negative_edge_index = negative_sampling(edge_index=data.edge_index, num_nodes=data.num_nodes, num_neg_samples=num_test_neg_samples)\n",
    "\n",
    "# Convert tensors to lists of tuples\n",
    "train_pos_edges = [tuple(edge) for edge in train_pos.edge_index.t().tolist()]\n",
    "test_pos_edges = [tuple(edge) for edge in test_pos.edge_index.t().tolist()]\n",
    "test_negative_edges = [tuple(edge) for edge in test_negative_edge_index.t().tolist()]\n",
    "\n",
    "# Ensure that these negative samples are not in the train_pos or test_pos sets\n",
    "test_neg_edge_index = [edge for edge in test_negative_edges if edge not in train_pos_edges and edge not in test_pos_edges]\n",
    "\n",
    "# Create the test_neg set\n",
    "test_neg = Data(x=data.x, edge_index=torch.tensor(test_neg_edge_index).t().contiguous())"
   ]
  },
  {
   "cell_type": "code",
   "execution_count": 12,
   "id": "b9addb61-caf6-4572-98ad-9da3d37afbeb",
   "metadata": {},
   "outputs": [],
   "source": [
    "class GCN(torch.nn.Module):\n",
    "    def __init__(self, num_features, hidden_size):\n",
    "        super(GCN, self).__init__()\n",
    "        self.conv1 = GCNConv(num_features, hidden_size)\n",
    "        self.conv2 = GCNConv(hidden_size, hidden_size)\n",
    "\n",
    "    def forward(self, edge_index, x):\n",
    "        x = self.conv1(x, edge_index)\n",
    "        x = torch.relu(x)\n",
    "        x = F.dropout(x, training=self.training)\n",
    "        x = self.conv2(x, edge_index)\n",
    "        return x"
   ]
  },
  {
   "cell_type": "code",
   "execution_count": 13,
   "id": "2426c759",
   "metadata": {},
   "outputs": [],
   "source": [
    "class TruncatedSVDModel(torch.nn.Module):\n",
    "    def __init__(self, num_features, output_size):\n",
    "        super(TruncatedSVDModel, self).__init__()\n",
    "        self.svd = TruncatedSVD(n_components=output_size)\n",
    "        self.fc = torch.nn.Linear(output_size, output_size)\n",
    "\n",
    "    def forward(self, x):\n",
    "        x_svd = self.svd.fit_transform(x.numpy())\n",
    "        x_svd = torch.tensor(x_svd, dtype=torch.float)\n",
    "        x_out = self.fc(x_svd)\n",
    "        return x_out"
   ]
  },
  {
   "cell_type": "code",
   "execution_count": 14,
   "id": "d975d5df-22fc-43db-a010-09cde635aad1",
   "metadata": {},
   "outputs": [],
   "source": [
    "class DotPredictor(torch.nn.Module):\n",
    "    def forward(self, edge_index, h):\n",
    "        # Get the embeddings of the source nodes and destination nodes\n",
    "        source_node_embeddings = h[edge_index[0]]\n",
    "        destination_node_embeddings = h[edge_index[1]]\n",
    "\n",
    "        # Compute the dot product (score) between source and destination node embeddings\n",
    "        scores = (source_node_embeddings * destination_node_embeddings).sum(dim=-1)\n",
    "\n",
    "        return scores"
   ]
  },
  {
   "cell_type": "code",
   "execution_count": 15,
   "id": "c62a5c93-c91f-4c9d-8c59-2c227b36767f",
   "metadata": {},
   "outputs": [],
   "source": [
    "def pipeline(model_name='GCN', hidden_size=64, epoch=100):\n",
    "    \n",
    "    def compute_loss(pos_score, neg_score):  # computes the loss based on binary cross entropy\n",
    "        scores = torch.cat([pos_score, neg_score])\n",
    "        labels = torch.cat([torch.ones(pos_score.shape[0]), torch.zeros(neg_score.shape[0])])\n",
    "        return F.binary_cross_entropy_with_logits(scores, labels)\n",
    "\n",
    "    def compute_auc(pos_score, neg_score):  # computes AUC (Area-Under-Curve) score\n",
    "        scores = torch.cat([pos_score, neg_score]).numpy()\n",
    "        labels = torch.cat(\n",
    "            [torch.ones(pos_score.shape[0]), torch.zeros(neg_score.shape[0])]).numpy()\n",
    "        return roc_auc_score(labels, scores)\n",
    "       \n",
    "    # hidden_size is the size of the hidden layer in the neural net\n",
    "    if model_name == 'GCN':\n",
    "        model = GCN(data_prime.num_features, hidden_size)\n",
    "    elif model_name == 'TruncatedSVD':\n",
    "        model = TruncatedSVDModel(data_prime.num_features, hidden_size)\n",
    "        \n",
    "    pred = DotPredictor()\n",
    "    optimizer = torch.optim.SGD(itertools.chain(model.parameters(), pred.parameters()), lr=0.01, momentum=0.9)\n",
    "    # Use a learning rate scheduler\n",
    "    scheduler = StepLR(optimizer, step_size=500, gamma=0.5)\n",
    " \n",
    "\n",
    "        # ----------- training -------------------------------- #\n",
    "    train_g = data_prime\n",
    "    for e in range(epoch):\n",
    "        if model_name == 'GCN':\n",
    "            h = model(train_g.edge_index, train_g.x)\n",
    "        elif model_name == 'TruncatedSVD':\n",
    "            h = model(train_g.x)  # get node embeddings\n",
    "\n",
    "        # forward    \n",
    "        pos_score = pred(train_pos.edge_index, h)\n",
    "        neg_score = pred(train_neg.edge_index, h)\n",
    "        loss = compute_loss(pos_score, neg_score)\n",
    "\n",
    "        # backward\n",
    "        optimizer.zero_grad()\n",
    "        loss.backward()\n",
    "        optimizer.step()\n",
    "        scheduler.step()\n",
    "        if e % 10 == 0:\n",
    "            print('In epoch {}, loss: {}'.format(e, loss))\n",
    "\n",
    "    # ----------- test and check results ---------------- #\n",
    "    with torch.no_grad():\n",
    "        pos_score = pred(test_pos.edge_index, h)\n",
    "        neg_score = pred(test_neg.edge_index, h)\n",
    "        auc=compute_auc(pos_score, neg_score)\n",
    "        print('AUC', auc)  \n",
    "        print('Loss', loss)  \n",
    "               \n",
    "    # Print model's state_dict\n",
    "    print(\"Model's state_dict:\")\n",
    "    for param_tensor in model.state_dict():\n",
    "        print(param_tensor, \"\\t\", model.state_dict()[param_tensor].size())\n",
    "\n",
    "    # Print optimizer's state_dict\n",
    "    print(\"Optimizer's state_dict:\")\n",
    "    for var_name in optimizer.state_dict():\n",
    "        print(var_name, \"\\t\", optimizer.state_dict()[var_name])\n",
    "\n",
    "    # Print scheduler's state_dict\n",
    "    print(\"scheduler's state_dict:\")\n",
    "    for var_name in scheduler.state_dict():\n",
    "        print(var_name, \"\\t\", scheduler.state_dict()[var_name])\n",
    "    \n",
    "    torch.save({\n",
    "            'epoch': epoch,        \n",
    "            'epoch_rem': e,\n",
    "            'model_state_dict': model.state_dict(),\n",
    "            'optimizer_state_dict': optimizer.state_dict(),\n",
    "            'scheduler_state_dict': scheduler.state_dict(),\n",
    "            'loss': loss,\n",
    "            \n",
    "            }, './torch_model/model_'+model_name+'_'+str(epoch)+'_fb'+'.pt')\n",
    "        \n",
    "    return h  # return node embeddings"
   ]
  },
  {
   "cell_type": "code",
   "execution_count": 16,
   "id": "426437d6",
   "metadata": {},
   "outputs": [],
   "source": [
    "def generate_rec(h, user_id=0, k=10):\n",
    "    # `h` represents the node embeddings, with shape [num_nodes, hidden_size]\n",
    "\n",
    "    # generate a graph with (num_nodes - num_friends_of_user) edges\n",
    "    # one end of the edge is user_id\n",
    "    # the other end is a user that's NOT friends with user_id\n",
    "    user_friends = set()\n",
    "    user_neg_u, user_neg_v = [], []\n",
    "\n",
    "    for n1, n2 in data.edge_index.t().tolist():   # get all friends of user_id\n",
    "        if int(n1) == user_id:\n",
    "            user_friends.add(int(n2))\n",
    "        if int(n2) == user_id:\n",
    "            user_friends.add(int(n1))\n",
    "\n",
    "    num_nodes=data.x.shape[0]\n",
    "    for i in range(num_nodes):  # generate \"negative edges\" for user_id\n",
    "        if i != user_id and i not in user_friends:\n",
    "            user_neg_u.append(user_id)\n",
    "            user_neg_v.append(i)\n",
    "\n",
    "    user_g = Data(x=data.x,edge_index=torch.tensor([user_neg_u, user_neg_v] ))\n",
    "\n",
    "    pred = DotPredictor()\n",
    "\n",
    "    # calculate the score of each user\n",
    "    scores = []\n",
    "    for i, score in enumerate(pred(user_g.edge_index, h)):\n",
    "        rel=1 if ((user_id,i) in test_pos_edges) else 0\n",
    "        scores.append((i, score,rel))\n",
    "\n",
    "    # produce final ranked list\n",
    "    scores.sort(key=lambda x: -x[1])\n",
    "\n",
    "    # display results\n",
    "    \n",
    "    if (k !=0):\n",
    "        print(f\"List of 5 suggested friends for user {user_id}:\")\n",
    "    for i in range(k):\n",
    "        print(f'- User {scores[i][0]}, score = {scores[i][1]}, rel = {scores[i][2]}')\n",
    "    return scores[:10]\n"
   ]
  },
  {
   "cell_type": "code",
   "execution_count": 17,
   "id": "bd06a00d",
   "metadata": {},
   "outputs": [],
   "source": [
    "def calc_rec(h, user_id=0, k=10):\n",
    "    user_friends = set()\n",
    "    user_neg_u, user_neg_v = [], []\n",
    "\n",
    "    for n1, n2 in data.edge_index.t().tolist():   # get all friends of user_id\n",
    "        if int(n1) == user_id:\n",
    "            user_friends.add(int(n2))\n",
    "        if int(n2) == user_id:\n",
    "            user_friends.add(int(n1))\n",
    "\n",
    "    num_nodes=data.x.shape[0]\n",
    "    for i in range(num_nodes):  # generate \"negative edges\" for user_id\n",
    "        if i != user_id and i not in user_friends:\n",
    "            user_neg_u.append(user_id)\n",
    "            user_neg_v.append(i)\n",
    "\n",
    "    user_g = Data(x=data.x,edge_index=torch.tensor([user_neg_u, user_neg_v] ))\n",
    "\n",
    "    pred = DotPredictor()\n",
    "\n",
    "    # calculate the score of each user\n",
    "    scores = []\n",
    "    for i, score in enumerate(pred(user_g.edge_index, h)):\n",
    "        rel=1 if ((user_id,i) in test_pos_edges) else 0\n",
    "        scores.append((i, score,rel))\n",
    "\n",
    "    # produce final ranked list\n",
    "    scores.sort(key=lambda x: -x[1])\n",
    "    rel=[x[2] for x in scores]\n",
    "    # display results\n",
    "    \n",
    "    return rel[:500]"
   ]
  },
  {
   "cell_type": "code",
   "execution_count": 18,
   "id": "68a50391",
   "metadata": {},
   "outputs": [],
   "source": [
    "def metrics(a,k=50):\n",
    "    top_k = a[:k]\n",
    "    hits=pd.DataFrame(0,index=[0],columns=top_k.columns)\n",
    "    recipr=pd.DataFrame(0,index=[0],columns=top_k.columns)\n",
    "    dcg=pd.DataFrame(0,index=[0],columns=top_k.columns)\n",
    "    idcg=pd.DataFrame(0,index=[0],columns=top_k.columns)\n",
    "    for i in list(top_k.columns):\n",
    "        hits[i]=(top_k[i].sum()/k)\n",
    "        recipr[i]=top_k.index[top_k[i] == 1].min()\n",
    "        dcg[i]=0\n",
    "        idcg[i]=0\n",
    "        top_sort=top_k[i]\n",
    "        top_sort=top_sort.sort_values(ascending=False)\n",
    "        for j in range(0,k):\n",
    "            dcg[i]+=top_k[i].iloc[j]/np.log2(j+1+1)\n",
    "            idcg[i]+=top_sort.iloc[j]/np.log2(j+1+1)\n",
    "\n",
    "    recipr=recipr.replace(np.nan,-1) +1\n",
    "    recipr = recipr.loc[:, (recipr != 0).any()]\n",
    "    ndcg=dcg/idcg\n",
    "    ndcg=ndcg.T.replace(np.nan,0)\n",
    "\n",
    "    ndcg_k=np.mean(ndcg)\n",
    "    mrr=(1/recipr.T).sum()[0]/len(a.columns)\n",
    "    hits_at_k=np.mean(hits)\n",
    "\n",
    "    print('Hits@'+str(k)+':', hits_at_k)\n",
    "    print('NDCG@'+str(k)+':', ndcg_k)\n",
    "    print('MRR:', mrr)\n",
    "    \n",
    "    return hits_at_k, ndcg_k, mrr\n"
   ]
  },
  {
   "cell_type": "code",
   "execution_count": 19,
   "id": "9abff665-24ed-4ee3-974a-4a8f8fcf89ac",
   "metadata": {},
   "outputs": [
    {
     "name": "stdout",
     "output_type": "stream",
     "text": [
      "In epoch 0, loss: 0.6635172963142395\n",
      "In epoch 10, loss: 0.6071047186851501\n",
      "In epoch 20, loss: 0.5831335186958313\n",
      "AUC 0.8877595859851748\n",
      "Loss tensor(0.5629, grad_fn=<BinaryCrossEntropyWithLogitsBackward0>)\n",
      "Model's state_dict:\n",
      "conv1.bias \t torch.Size([64])\n",
      "conv1.lin.weight \t torch.Size([64, 1406])\n",
      "conv2.bias \t torch.Size([64])\n",
      "conv2.lin.weight \t torch.Size([64, 64])\n",
      "Optimizer's state_dict:\n",
      "state \t {0: {'momentum_buffer': tensor([-0.0414, -0.0104,  0.0016, -0.0055, -0.0030, -0.0259,  0.0067,  0.0007,\n",
      "         0.0029, -0.0446,  0.0056, -0.0009,  0.0009, -0.0212, -0.0133, -0.0125,\n",
      "         0.0337, -0.0053, -0.0109, -0.0005, -0.0136, -0.0545, -0.0269, -0.0538,\n",
      "        -0.0808, -0.0538, -0.0042,  0.0081, -0.0340, -0.0329,  0.0069,  0.0040,\n",
      "        -0.0165, -0.0660, -0.0149, -0.0311, -0.0124, -0.0364,  0.0234, -0.0357,\n",
      "         0.0413, -0.0335, -0.0226, -0.0397, -0.0221,  0.0104, -0.0160,  0.0008,\n",
      "        -0.0115, -0.0072, -0.0124,  0.0184, -0.0495, -0.0191, -0.0778, -0.0432,\n",
      "        -0.0368,  0.0142, -0.0294, -0.0386, -0.0099,  0.0087, -0.0104,  0.0109])}, 1: {'momentum_buffer': tensor([[-2.3517e-03, -4.5269e-04,  1.5238e-03,  ..., -2.5054e-05,\n",
      "         -1.7329e-05, -4.6867e-05],\n",
      "        [-3.4189e-05, -2.8828e-05, -1.6657e-03,  ...,  0.0000e+00,\n",
      "          0.0000e+00,  0.0000e+00],\n",
      "        [ 2.6721e-04,  3.5233e-05,  7.0663e-05,  ...,  1.8504e-05,\n",
      "          3.5090e-05,  4.4512e-05],\n",
      "        ...,\n",
      "        [ 1.4892e-03,  4.6728e-04,  4.5030e-04,  ..., -4.5187e-05,\n",
      "         -1.1767e-05,  6.8689e-06],\n",
      "        [ 4.1011e-04,  2.3404e-04, -5.4299e-03,  ...,  4.3429e-06,\n",
      "          8.2114e-06,  2.0034e-06],\n",
      "        [ 1.8146e-02,  5.1688e-03,  2.2055e-02,  ...,  3.8460e-04,\n",
      "          2.5185e-04,  2.8701e-04]])}, 2: {'momentum_buffer': tensor([-0.0383,  0.0854,  0.0399,  0.0626, -0.0168, -0.1203, -0.0064,  0.1064,\n",
      "        -0.0564, -0.0391, -0.0230, -0.0519,  0.0157, -0.0660, -0.0619, -0.0046,\n",
      "         0.0541, -0.0127, -0.0082, -0.0032, -0.0424,  0.0886,  0.0465, -0.1212,\n",
      "         0.1358,  0.0281,  0.1704,  0.0849,  0.0939,  0.1289,  0.0343,  0.0078,\n",
      "        -0.0129,  0.0592, -0.0055,  0.0615, -0.0420,  0.1716, -0.0649,  0.0516,\n",
      "        -0.0907, -0.0814,  0.0275, -0.1550,  0.0727, -0.0107, -0.0718, -0.0831,\n",
      "        -0.0521, -0.0988,  0.0205,  0.0342, -0.1180,  0.1066,  0.0021,  0.0335,\n",
      "        -0.0340,  0.0502,  0.0011,  0.0122,  0.0165,  0.0634,  0.0910,  0.0762])}, 3: {'momentum_buffer': tensor([[-6.8549e-03, -5.5744e-04, -4.4093e-04,  ..., -1.5402e-04,\n",
      "         -1.7060e-03,  9.3695e-03],\n",
      "        [ 6.3402e-03,  5.9152e-04,  4.6451e-04,  ...,  2.1676e-03,\n",
      "          5.0349e-04,  4.9718e-03],\n",
      "        [ 4.2790e-04,  1.0783e-04, -2.5340e-04,  ...,  6.9041e-04,\n",
      "          7.1713e-04, -2.8228e-05],\n",
      "        ...,\n",
      "        [ 4.4523e-04,  1.9339e-04,  2.6841e-04,  ...,  1.0366e-03,\n",
      "          7.4098e-04,  1.7219e-02],\n",
      "        [ 3.0682e-03,  5.0067e-04,  6.0332e-04,  ...,  1.2232e-03,\n",
      "          1.6083e-03,  1.7219e-02],\n",
      "        [ 6.8918e-03,  8.2326e-04,  4.4719e-04,  ..., -7.5883e-05,\n",
      "          9.2125e-04,  1.3567e-02]])}}\n",
      "param_groups \t [{'lr': 0.01, 'momentum': 0.9, 'dampening': 0, 'weight_decay': 0, 'nesterov': False, 'maximize': False, 'foreach': None, 'differentiable': False, 'initial_lr': 0.01, 'params': [0, 1, 2, 3]}]\n",
      "scheduler's state_dict:\n",
      "step_size \t 500\n",
      "gamma \t 0.5\n",
      "base_lrs \t [0.01]\n",
      "last_epoch \t 30\n",
      "verbose \t False\n",
      "_step_count \t 31\n",
      "_get_lr_called_within_step \t False\n",
      "_last_lr \t [0.01]\n"
     ]
    }
   ],
   "source": [
    "h = pipeline(\"GCN\",epoch=target_epoch) "
   ]
  },
  {
   "cell_type": "code",
   "execution_count": 20,
   "id": "6fba82b3",
   "metadata": {},
   "outputs": [
    {
     "name": "stderr",
     "output_type": "stream",
     "text": [
      "100%|████████████████████████████████████████████████████████████████████████████| 3821/3821 [4:40:43<00:00,  4.41s/it]\n"
     ]
    }
   ],
   "source": [
    "target_users = np.unique(np.array(test_pos_edges).flatten())\n",
    "rankings={}\n",
    "with tqdm(total=len(target_users), position=0, leave=True) as pbar:\n",
    "    for user in target_users:         \n",
    "        rankings[user]=calc_rec(h,user)\n",
    "        pbar.update()\n",
    "\n"
   ]
  },
  {
   "cell_type": "code",
   "execution_count": 21,
   "id": "9fbb511e",
   "metadata": {},
   "outputs": [
    {
     "name": "stdout",
     "output_type": "stream",
     "text": [
      "In epoch 0, loss: 0.7885792255401611\n",
      "In epoch 10, loss: 0.6482833027839661\n",
      "In epoch 20, loss: 0.62317955493927\n",
      "AUC 0.7545420773444045\n",
      "Loss tensor(0.6168, grad_fn=<BinaryCrossEntropyWithLogitsBackward0>)\n",
      "Model's state_dict:\n",
      "fc.weight \t torch.Size([64, 64])\n",
      "fc.bias \t torch.Size([64])\n",
      "Optimizer's state_dict:\n",
      "state \t {0: {'momentum_buffer': tensor([[ 2.2651e-01,  2.0847e-02,  1.4289e-02,  ..., -2.4180e-04,\n",
      "         -9.4253e-05,  1.5123e-03],\n",
      "        [ 2.1690e-02,  2.6665e-02,  6.8177e-02,  ..., -1.6293e-04,\n",
      "         -1.3285e-03,  8.6698e-04],\n",
      "        [-6.4878e-02, -7.9437e-03,  3.6569e-02,  ...,  1.2713e-03,\n",
      "         -1.9431e-04, -3.2740e-04],\n",
      "        ...,\n",
      "        [ 3.7550e-02, -1.3741e-02,  2.7081e-02,  ...,  1.5579e-03,\n",
      "         -1.0252e-03,  6.1733e-05],\n",
      "        [ 6.8982e-02,  2.2430e-02, -3.8393e-03,  ..., -2.0465e-04,\n",
      "          1.1912e-04,  7.2685e-04],\n",
      "        [-4.3194e-02,  5.3280e-03,  3.3117e-02,  ...,  3.1903e-04,\n",
      "         -5.9558e-04,  2.3757e-04]])}, 1: {'momentum_buffer': tensor([ 0.1173,  0.0044, -0.0330, -0.0139,  0.0252,  0.0009,  0.0715,  0.0027,\n",
      "        -0.0183,  0.0323,  0.0129, -0.0279, -0.1169, -0.1031, -0.0009,  0.0162,\n",
      "        -0.0309, -0.0265, -0.0313, -0.0761, -0.0106,  0.0021,  0.0204, -0.0210,\n",
      "         0.0357,  0.0027,  0.0308, -0.0593,  0.0372,  0.0042, -0.0276,  0.0915,\n",
      "        -0.0442,  0.0048,  0.0114, -0.0336, -0.0055, -0.0403,  0.0021, -0.0477,\n",
      "        -0.0466, -0.0459,  0.0366, -0.0515, -0.0142,  0.0478, -0.0678,  0.0432,\n",
      "        -0.0138,  0.0343, -0.0091,  0.0629, -0.0379, -0.0285, -0.0121, -0.0504,\n",
      "         0.0019, -0.0532,  0.0306, -0.0323, -0.0024,  0.0306,  0.0275, -0.0227])}}\n",
      "param_groups \t [{'lr': 0.01, 'momentum': 0.9, 'dampening': 0, 'weight_decay': 0, 'nesterov': False, 'maximize': False, 'foreach': None, 'differentiable': False, 'initial_lr': 0.01, 'params': [0, 1]}]\n",
      "scheduler's state_dict:\n",
      "step_size \t 500\n",
      "gamma \t 0.5\n",
      "base_lrs \t [0.01]\n",
      "last_epoch \t 30\n",
      "verbose \t False\n",
      "_step_count \t 31\n",
      "_get_lr_called_within_step \t False\n",
      "_last_lr \t [0.01]\n"
     ]
    }
   ],
   "source": [
    "h2 = pipeline(\"TruncatedSVD\",epoch=target_epoch)"
   ]
  },
  {
   "cell_type": "code",
   "execution_count": 22,
   "id": "778da106",
   "metadata": {},
   "outputs": [
    {
     "name": "stderr",
     "output_type": "stream",
     "text": [
      "100%|████████████████████████████████████████████████████████████████████████████| 3821/3821 [4:45:36<00:00,  4.48s/it]\n"
     ]
    }
   ],
   "source": [
    "rankings2={}\n",
    "with tqdm(total=len(target_users), position=0, leave=True) as pbar:\n",
    "    for user in target_users:              \n",
    "        rankings2[user]=calc_rec(h2,user)\n",
    "        pbar.update()"
   ]
  },
  {
   "cell_type": "code",
   "execution_count": 23,
   "id": "64e61450",
   "metadata": {},
   "outputs": [
    {
     "name": "stdout",
     "output_type": "stream",
     "text": [
      "Hits@50: 0.006406699816801884\n",
      "NDCG@50: 0.06403819254232576\n",
      "MRR: 0.030526379985713243\n"
     ]
    },
    {
     "data": {
      "text/plain": [
       "(0.006406699816801884, 0.06403819254232576, 0.030526379985713243)"
      ]
     },
     "execution_count": 23,
     "metadata": {},
     "output_type": "execute_result"
    }
   ],
   "source": [
    "a=pd.DataFrame(rankings)\n",
    "#all users\n",
    "metrics(a,k=50)"
   ]
  },
  {
   "cell_type": "code",
   "execution_count": 24,
   "id": "2138068f",
   "metadata": {},
   "outputs": [
    {
     "name": "stdout",
     "output_type": "stream",
     "text": [
      "Hits@5: 0.009002878827532059\n",
      "NDCG@5: 0.02603035122043841\n",
      "MRR: 0.020980546104859114\n"
     ]
    },
    {
     "data": {
      "text/plain": [
       "(0.009002878827532059, 0.02603035122043841, 0.020980546104859114)"
      ]
     },
     "execution_count": 24,
     "metadata": {},
     "output_type": "execute_result"
    }
   ],
   "source": [
    "metrics(a,k=5)"
   ]
  },
  {
   "cell_type": "code",
   "execution_count": 25,
   "id": "4e524b7e",
   "metadata": {},
   "outputs": [],
   "source": [
    "a.to_csv('./model_results/dot_product_GCN_'+ str(target_epoch)+'_fb.csv', index=False) \n",
    "a.to_pickle('./model_results/dot_product_GCN_'+ str(target_epoch)+'_fb.pkl')\n",
    "torch.save(h, './model_results/node_embeddings_GCN_'+ str(target_epoch)+'_fb.pkl')"
   ]
  },
  {
   "cell_type": "code",
   "execution_count": 26,
   "id": "c740d2e2",
   "metadata": {},
   "outputs": [
    {
     "name": "stdout",
     "output_type": "stream",
     "text": [
      "Hits@50: 0.003773881182936404\n",
      "NDCG@50: 0.040746742370254024\n",
      "MRR: 0.018008179450580922\n"
     ]
    },
    {
     "data": {
      "text/plain": [
       "(0.003773881182936404, 0.040746742370254024, 0.018008179450580922)"
      ]
     },
     "execution_count": 26,
     "metadata": {},
     "output_type": "execute_result"
    }
   ],
   "source": [
    "a2=pd.DataFrame(rankings2)\n",
    "#all users\n",
    "metrics(a2,k=50)"
   ]
  },
  {
   "cell_type": "code",
   "execution_count": 27,
   "id": "95b3fe9d",
   "metadata": {},
   "outputs": [
    {
     "name": "stdout",
     "output_type": "stream",
     "text": [
      "Hits@5: 0.004658466370060193\n",
      "NDCG@5: 0.014346471916507663\n",
      "MRR: 0.011733403123091688\n"
     ]
    },
    {
     "data": {
      "text/plain": [
       "(0.004658466370060193, 0.014346471916507663, 0.011733403123091688)"
      ]
     },
     "execution_count": 27,
     "metadata": {},
     "output_type": "execute_result"
    }
   ],
   "source": [
    "metrics(a2,k=5)"
   ]
  },
  {
   "cell_type": "code",
   "execution_count": 28,
   "id": "22e79eb4",
   "metadata": {},
   "outputs": [],
   "source": [
    "a2.to_csv('./model_results/dot_product_TruncatedSVD_'+ str(target_epoch)+'_fb.csv', index=False) \n",
    "a2.to_pickle('./model_results/dot_product_TruncatedSVD_'+ str(target_epoch)+'_fb.pkl')\n",
    "torch.save(h2, './model_results/node_embeddings_TruncatedSVD_'+ str(target_epoch)+'_fb.pkl')"
   ]
  },
  {
   "cell_type": "markdown",
   "id": "1a9fcccf-9b26-4083-a46b-7b1ed99ed8cd",
   "metadata": {},
   "source": [
    "epoch= 30\n",
    "\n",
    "\n",
    "|model|AUC|hits@5|NDCG@5| MRR  |hits@50|NDCG@50|MRR|\n",
    "|-----|---|---|------|------|-------|-------|---|\n",
    "| GCN |0.8877|0.0090|0.0260|0.0209|0.0064|0.0640|0.0305|\n",
    "|tSVD |0.7545|0.0046|0.0143|0.0117|0.0037|0.0407|0.0180|"
   ]
  },
  {
   "cell_type": "markdown",
   "id": "fd8ecc60",
   "metadata": {},
   "source": [
    "epoch= 100\n",
    "\n",
    "\n",
    "|model|AUC|hits@5|NDCG@5| MRR  |hits@50|NDCG@50|MRR|\n",
    "|-----|---|---|------|------|-------|-------|---|\n",
    "| GCN |0.9316   |0.0090|0.0252|0.0318| 0.0086|0.0761|0.0318|\n",
    "|tSVD |0.7861|0.0047|0.0143|0.0114| 0.0047|0.0143|0.0114 |"
   ]
  },
  {
   "cell_type": "markdown",
   "id": "79928e09",
   "metadata": {},
   "source": [
    "epoch= 1000\n",
    "\n",
    "\n",
    "|model|AUC|hits@5|NDCG@5| MRR  |hits@50|NDCG@50|MRR|\n",
    "|-----|---|---|------|------|-------|-------|---|\n",
    "| GCN |0.9596|0.0096|0.0273|0.0212| 0.0095|0.0868 |0.036  |\n",
    "|tSVD |0.8556|0.0043|0.0126|0.0097| 0.0048|0.0448 |0.017 |"
   ]
  },
  {
   "cell_type": "code",
   "execution_count": 29,
   "id": "8a7197f9",
   "metadata": {},
   "outputs": [],
   "source": [
    "# Load if unloaded and get recommendations\n",
    "if 'h' not in globals() or 'h' not in locals():\n",
    "    h=torch.load('./model_results/node_embeddings_GCN_'+ str(target_epoch)+'_fb.pkl')\n",
    "if 'a' not in globals() or 'a' not in locals():\n",
    "    a = pd.read_pickle('./model_results/dot_product_GCN_'+ str(target_epoch)+'_fb.pkl')\n",
    "if 'h2' not in globals() or 'h2' not in locals():\n",
    "    h=torch.load('./model_results/node_embeddings_TruncatedSVD_'+ str(target_epoch)+'_fb.pkl')\n",
    "if 'a2' not in globals() or 'a2' not in locals():\n",
    "    a = pd.read_pickle('./model_results/dot_product_TruncatedSVD_'+ str(target_epoch)+'_fb.pkl')"
   ]
  },
  {
   "cell_type": "code",
   "execution_count": 30,
   "id": "d11f2fb0",
   "metadata": {},
   "outputs": [
    {
     "data": {
      "text/plain": [
       "torch.Size([4039, 64])"
      ]
     },
     "execution_count": 30,
     "metadata": {},
     "output_type": "execute_result"
    }
   ],
   "source": [
    "h.shape"
   ]
  },
  {
   "cell_type": "code",
   "execution_count": 31,
   "id": "c8cfc016",
   "metadata": {
    "scrolled": true
   },
   "outputs": [
    {
     "name": "stdout",
     "output_type": "stream",
     "text": [
      "List of 5 suggested friends for user 40:\n",
      "- User 72, score = 0.4651026129722595, rel = 0\n",
      "- User 108, score = 0.43097347021102905, rel = 0\n",
      "- User 225, score = 0.4305192232131958, rel = 0\n",
      "- User 88, score = 0.3894405961036682, rel = 0\n",
      "- User 170, score = 0.3873409628868103, rel = 0\n"
     ]
    }
   ],
   "source": [
    "sc=generate_rec(h, user_id=40, k=5) #k only for visualization here"
   ]
  },
  {
   "cell_type": "code",
   "execution_count": 32,
   "id": "6774d651",
   "metadata": {},
   "outputs": [
    {
     "name": "stdout",
     "output_type": "stream",
     "text": [
      "List of 5 suggested friends for user 40:\n",
      "- User 1261, score = 1.9663512706756592, rel = 0\n",
      "- User 1363, score = 1.5630542039871216, rel = 0\n",
      "- User 250, score = 1.549490213394165, rel = 0\n",
      "- User 2036, score = 1.499799132347107, rel = 0\n",
      "- User 210, score = 1.4956254959106445, rel = 0\n"
     ]
    }
   ],
   "source": [
    "sc2=generate_rec(h2, user_id=40, k=5)"
   ]
  },
  {
   "cell_type": "code",
   "execution_count": null,
   "id": "c8309731-471d-421c-ae8b-bb6db2170f26",
   "metadata": {},
   "outputs": [],
   "source": []
  }
 ],
 "metadata": {
  "kernelspec": {
   "display_name": "Python 3 (ipykernel)",
   "language": "python",
   "name": "python3"
  },
  "language_info": {
   "codemirror_mode": {
    "name": "ipython",
    "version": 3
   },
   "file_extension": ".py",
   "mimetype": "text/x-python",
   "name": "python",
   "nbconvert_exporter": "python",
   "pygments_lexer": "ipython3",
   "version": "3.11.5"
  }
 },
 "nbformat": 4,
 "nbformat_minor": 5
}
